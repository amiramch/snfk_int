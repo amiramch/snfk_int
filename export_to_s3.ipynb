{
 "metadata": {
  "kernelspec": {
   "display_name": "Streamlit Notebook",
   "name": "streamlit"
  },
  "lastEditStatus": {
   "notebookId": "xieqzn2ixh5eabu2l7kz",
   "authorId": "298977739614",
   "authorName": "JOHN",
   "authorEmail": "amiram.chocron@snowflake.com",
   "sessionId": "2451cde4-11cd-46b8-8d63-3b9388144633",
   "lastEditTime": 1747521098498
  }
 },
 "nbformat_minor": 5,
 "nbformat": 4,
 "cells": [
  {
   "cell_type": "code",
   "id": "3775908f-ca36-4846-8f38-5adca39217f2",
   "metadata": {
    "language": "python",
    "name": "cell1"
   },
   "source": "# Import python packages\nimport streamlit as st\nimport pandas as pd\nfrom snowflake.snowpark.functions import col, min as sf_min, max as sf_max, datediff, sql_expr, to_timestamp_ntz\nfrom datetime import datetime\nfrom snowflake.snowpark.context import get_active_session\nsession = get_active_session()\n",
   "execution_count": null,
   "outputs": []
  },
  {
   "cell_type": "code",
   "id": "b90d411b-3eda-4b1d-859f-d14e68ff6a71",
   "metadata": {
    "language": "python",
    "name": "cell2"
   },
   "outputs": [],
   "source": "def filter_ips_with_long_activity(session, source_table: str, target_table: str, stage_path: str):\n    # Load the data\n    df = session.table(source_table)\n\n    df_ts = (\n        df.with_column(\"ts_converted\", to_timestamp_ntz(col('\"timestamp\"') / 1e9)))\n    \n    df_grouped = (\n        df_ts.group_by(col('\"ip\"'))\n        .agg(\n            sf_min(\"ts_converted\").alias(\"min_ts\"),\n            sf_max(\"ts_converted\").alias(\"max_ts\")\n        )\n        .with_column(\"diff_days\", datediff(\"day\", col(\"min_ts\"), col(\"max_ts\")))\n        .filter(col(\"diff_days\") > 30)\n        .select(col('\"ip\"'), \"min_ts\", \"max_ts\", \"diff_days\")\n    )\n\n    # Write result to Snowflake table\n    df_grouped.write.mode(\"overwrite\").save_as_table(target_table)\n\n    # Unload to external stage as Parquet\n    session.sql(f\"\"\"\n        COPY INTO '{stage_path}'\n        FROM {target_table}\n        PARTITION BY (TO_CHAR(\"MAX_TS\",'MM'))\n        FILE_FORMAT = (TYPE = PARQUET)\n        --OVERWRITE = TRUE;\n         \"\"\").collect()\n\n    return df_grouped",
   "execution_count": null
  },
  {
   "cell_type": "code",
   "id": "0fe4c263-7dee-43c7-8833-a6352d5a3411",
   "metadata": {
    "language": "python",
    "name": "cell4"
   },
   "outputs": [],
   "source": "SOURCE_TABLE = \"my_events\"\nTARGET_TABLE = \"output_results\"\nSTAGE_PATH = \"@ext_stage\"\n\nresult_df = filter_ips_with_long_activity(session, SOURCE_TABLE, TARGET_TABLE, STAGE_PATH)\n\nresult_df.show()",
   "execution_count": null
  },
  {
   "cell_type": "code",
   "id": "0c55aaa1-1d14-4657-8f0a-7c9f97680a99",
   "metadata": {
    "language": "python",
    "name": "cell3"
   },
   "outputs": [],
   "source": "st.line_chart(result_df, x=\"MIN_TS\", y=\"DIFF_DAYS\")",
   "execution_count": null
  }
 ]
}